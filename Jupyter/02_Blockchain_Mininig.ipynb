{
 "cells": [
  {
   "cell_type": "code",
   "execution_count": 6,
   "id": "e06f840d-ef55-4e65-be0f-8b36a372c454",
   "metadata": {},
   "outputs": [],
   "source": [
    "from hashlib import sha256 \n",
    "import json  # to see the content of the block\n",
    "\n",
    "class Block:  # create the class block\n",
    "    def __init__(self, index, timestamp, data, previous_hash=''):  # create constructor and vars in the block\n",
    "        self.index = index\n",
    "        self.timestamp = timestamp\n",
    "        self.data = data\n",
    "        self.count = 0 #add function for mining and add it to the hash calculation\n",
    "        self.previous_hash = previous_hash\n",
    "        self.hash = self.calculate_hash()  # create the hash of this block\n",
    "\n",
    "    # generate hash to represent the data of the block\n",
    "    def calculate_hash(self):\n",
    "        hash_str = str(self.index) + self.timestamp + self.data + self.previous_hash + str(self.count) # Combine data to create the string to hash\n",
    "        return sha256(hash_str.encode('utf-8')).hexdigest()  # hash the string\n",
    "\n",
    "    # generate a funciotn fo mining and add it to the block as a calculation of a new block\n",
    "    def mining_block(self, difficulty): #add difficulty as a number for how many 0 we want into the ahsh number\n",
    "        while self.hash[0:difficulty] != '0'*difficulty:\n",
    "            self.count += 1\n",
    "            self.hash = self.calculate_hash()\n",
    "        print(f'Block Mined')\n",
    "        \n",
    "    def content(self):  # see the content of the block as a dictionary\n",
    "        print(json.dumps(self.__dict__, indent=2, default=str))  # Use json.dumps instead of dump, fixed typo in 'self'\n",
    "\n",
    "class Blockchain:  # create the class Blockchain (BC)\n",
    "    def __init__(self):\n",
    "        self.chain = [self.generate_genesis_block()]  # create series of blocks to insert into the BC. Considering the genesis block\n",
    "        self.difficulty = 2 #set the difficulty for the blockchain\n",
    "  \n",
    "    def generate_genesis_block(self):\n",
    "        return Block(0, '26/01/2025', 'Genesis Block')  # create genesis block, the previous_hash (Block) considering like null\n",
    "    \n",
    "    def add_block(self, new_block):  # create function to add block\n",
    "        new_block.previous_hash = self.chain[-1].hash\n",
    "        #new_block.hash = new_block.calculate_hash()\n",
    "        new_block.mining_block(self.difficulty)\n",
    "        self.chain.append(new_block)  # Fixed error: 'new.block' should be 'new_block'\n",
    "\n",
    "    def is_chain_valid(self):  # Define a method to validate the blockchain\n",
    "        for i in range(1, len(self.chain)):  # Iterate over the chain starting from the second block\n",
    "            current_block = self.chain[i]  # Get the current block\n",
    "            previous_block = self.chain[i-1]  # Get the previous block\n",
    "        \n",
    "            # Check if the current block's hash matches the calculated hash\n",
    "            if current_block.hash != current_block.calculate_hash():  \n",
    "                raise ValueError(f'current_block.hash != current_block.calculate_hash()')  # Raise an error if the hashes don't match\n",
    "        \n",
    "            # Check if the current block's `previous_hash` matches the hash of the previous block\n",
    "            elif current_block.previous_hash != previous_block.hash:  \n",
    "                raise ValueError(f'current_block.previous_hash != previous_block.hash')  # Raise an error if the previous hashes don't match\n",
    "        \n",
    "        print('Valid Blockchain')  # If all checks pass, the blockchain is valid\n",
    "\n",
    "    def content(self):  # Added method to print content of the blockchain\n",
    "        for block in self.chain:\n",
    "            block.content()  # Function to see what's inside the block created after the hash\n"
   ]
  },
  {
   "cell_type": "code",
   "execution_count": 7,
   "id": "b152e58b-6b82-4e12-8233-a1c5da60ee6f",
   "metadata": {},
   "outputs": [],
   "source": [
    "nic_chain = Blockchain() #create the chain"
   ]
  },
  {
   "cell_type": "code",
   "execution_count": 8,
   "id": "fa170093-c910-438f-b9a5-a70fe3f18871",
   "metadata": {},
   "outputs": [
    {
     "name": "stdout",
     "output_type": "stream",
     "text": [
      "Block Mined\n",
      "Block Mined\n"
     ]
    }
   ],
   "source": [
    "block1 = Block(1, '27/01/2025','Transaction Number 1') #add a block to the chain\n",
    "nic_chain.add_block(block1)\n",
    "\n",
    "block2 = Block(2, '27/01/2025','Transaction Number 2') #add another block to the chain\n",
    "nic_chain.add_block(block2)"
   ]
  },
  {
   "cell_type": "code",
   "execution_count": 4,
   "id": "e87ed254-ae8b-41fe-acc9-d1d2681ed926",
   "metadata": {},
   "outputs": [
    {
     "name": "stdout",
     "output_type": "stream",
     "text": [
      "Valid Blockchain\n"
     ]
    }
   ],
   "source": [
    "nic_chain.is_chain_valid()"
   ]
  },
  {
   "cell_type": "code",
   "execution_count": 5,
   "id": "c127fb8e-a1c1-4078-87be-757e5d556b44",
   "metadata": {},
   "outputs": [
    {
     "name": "stdout",
     "output_type": "stream",
     "text": [
      "{\n",
      "  \"index\": 0,\n",
      "  \"timestamp\": \"26/01/2025\",\n",
      "  \"data\": \"Genesis Block\",\n",
      "  \"count\": 0,\n",
      "  \"previous_hash\": \"\",\n",
      "  \"hash\": \"be8fdcf3ed731b94a69f7465075958c8d479edd4aaa1a48cff53e2a97842df67\"\n",
      "}\n",
      "{\n",
      "  \"index\": 1,\n",
      "  \"timestamp\": \"27/01/2025\",\n",
      "  \"data\": \"Transaction Number 1\",\n",
      "  \"count\": 1188,\n",
      "  \"previous_hash\": \"be8fdcf3ed731b94a69f7465075958c8d479edd4aaa1a48cff53e2a97842df67\",\n",
      "  \"hash\": \"005facf65e19e62386612aa7f6e585faee1c2b9983d103f46d0aeac19b1109db\"\n",
      "}\n",
      "{\n",
      "  \"index\": 2,\n",
      "  \"timestamp\": \"27/01/2025\",\n",
      "  \"data\": \"Transaction Number 2\",\n",
      "  \"count\": 450,\n",
      "  \"previous_hash\": \"005facf65e19e62386612aa7f6e585faee1c2b9983d103f46d0aeac19b1109db\",\n",
      "  \"hash\": \"00479b0b58fbe7d408d2a8139cbae9ba7251f37d40423ea91289f0ed67d6dbb0\"\n",
      "}\n"
     ]
    }
   ],
   "source": [
    "nic_chain.content()"
   ]
  },
  {
   "cell_type": "code",
   "execution_count": null,
   "id": "d622f1d9-8ddc-49ae-88b1-5f0a0fedc672",
   "metadata": {},
   "outputs": [],
   "source": []
  },
  {
   "cell_type": "code",
   "execution_count": null,
   "id": "fc99523d-279d-44b7-a81f-bd87731f6396",
   "metadata": {},
   "outputs": [],
   "source": []
  }
 ],
 "metadata": {
  "kernelspec": {
   "display_name": "Python 3 (ipykernel)",
   "language": "python",
   "name": "python3"
  },
  "language_info": {
   "codemirror_mode": {
    "name": "ipython",
    "version": 3
   },
   "file_extension": ".py",
   "mimetype": "text/x-python",
   "name": "python",
   "nbconvert_exporter": "python",
   "pygments_lexer": "ipython3",
   "version": "3.12.7"
  }
 },
 "nbformat": 4,
 "nbformat_minor": 5
}
