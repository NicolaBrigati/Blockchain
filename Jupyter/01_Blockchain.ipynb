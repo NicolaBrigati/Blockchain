{
 "cells": [
  {
   "cell_type": "code",
   "execution_count": 36,
   "id": "e06f840d-ef55-4e65-be0f-8b36a372c454",
   "metadata": {},
   "outputs": [],
   "source": [
    "from hashlib import sha256 \n",
    "import json  # to see the content of the block\n",
    "\n",
    "class Block:  # create the class block\n",
    "    def __init__(self, index, timestamp, data, previous_hash=''):  # create constructor and vars in the block\n",
    "        self.index = index\n",
    "        self.timestamp = timestamp\n",
    "        self.data = data\n",
    "        self.previous_hash = previous_hash\n",
    "        self.hash = self.calculate_hash()  # create the hash of this block\n",
    "\n",
    "    # generate hash to represent the data of the block\n",
    "    def calculate_hash(self):\n",
    "        hash_str = str(self.index) + self.timestamp + self.data + self.previous_hash  # Combine data to create the string to hash\n",
    "        return sha256(hash_str.encode('utf-8')).hexdigest()  # hash the string\n",
    "\n",
    "    def content(self):  # see the content of the block as a dictionary\n",
    "        print(json.dumps(self.__dict__, indent=2, default=str))  # Use json.dumps instead of dump, fixed typo in 'self'\n",
    "\n",
    "class Blockchain:  # create the class Blockchain (BC)\n",
    "    def __init__(self):\n",
    "        self.chain = [self.generate_genesis_block()]  # create series of blocks to insert into the BC. Considering the genesis block\n",
    "    \n",
    "    def generate_genesis_block(self):\n",
    "        return Block(0, '26/01/2025', 'Genesis Block')  # create genesis block, the previous_hash (Block) considering like null\n",
    "    \n",
    "    def add_block(self, new_block):  # create function to add block\n",
    "        new_block.previous_hash = self.chain[-1].hash\n",
    "        new_block.hash = new_block.calculate_hash()\n",
    "        self.chain.append(new_block)  # Fixed error: 'new.block' should be 'new_block'\n",
    "\n",
    "    def is_chain_valid(self):  # Define a method to validate the blockchain\n",
    "        for i in range(1, len(self.chain)):  # Iterate over the chain starting from the second block\n",
    "            current_block = self.chain[i]  # Get the current block\n",
    "            previous_block = self.chain[i-1]  # Get the previous block\n",
    "        \n",
    "            # Check if the current block's hash matches the calculated hash\n",
    "            if current_block.hash != current_block.calculate_hash():  \n",
    "                raise ValueError(f'current_block.hash != current_block.calculate_hash()')  # Raise an error if the hashes don't match\n",
    "        \n",
    "            # Check if the current block's `previous_hash` matches the hash of the previous block\n",
    "            elif current_block.previous_hash != previous_block.hash:  \n",
    "                raise ValueError(f'current_block.previous_hash != previous_block.hash')  # Raise an error if the previous hashes don't match\n",
    "        \n",
    "        print('Valid Blockchain')  # If all checks pass, the blockchain is valid\n",
    "\n",
    "    def content(self):  # Added method to print content of the blockchain\n",
    "        for block in self.chain:\n",
    "            block.content()  # Function to see what's inside the block created after the hash\n"
   ]
  },
  {
   "cell_type": "code",
   "execution_count": 37,
   "id": "b152e58b-6b82-4e12-8233-a1c5da60ee6f",
   "metadata": {},
   "outputs": [],
   "source": [
    "nic_chain = Blockchain() #create the chain"
   ]
  },
  {
   "cell_type": "code",
   "execution_count": 38,
   "id": "fa170093-c910-438f-b9a5-a70fe3f18871",
   "metadata": {},
   "outputs": [],
   "source": [
    "block1 = Block(1, '27/01/2025','Transaction Number 1') #add a block to the chain\n",
    "nic_chain.add_block(block1)\n",
    "\n",
    "block2 = Block(2, '27/01/2025','Transaction Number 2') #add another block to the chain\n",
    "nic_chain.add_block(block2)"
   ]
  },
  {
   "cell_type": "code",
   "execution_count": 39,
   "id": "04928509-23ec-4323-845b-65de20025302",
   "metadata": {},
   "outputs": [
    {
     "name": "stdout",
     "output_type": "stream",
     "text": [
      "Valid Blockchain\n"
     ]
    }
   ],
   "source": [
    "nic_chain.is_chain_valid()"
   ]
  },
  {
   "cell_type": "code",
   "execution_count": 40,
   "id": "6217c817-f24a-4276-9058-5c9738b3c229",
   "metadata": {},
   "outputs": [
    {
     "name": "stdout",
     "output_type": "stream",
     "text": [
      "{\n",
      "  \"index\": 0,\n",
      "  \"timestamp\": \"26/01/2025\",\n",
      "  \"data\": \"Genesis Block\",\n",
      "  \"previous_hash\": \"\",\n",
      "  \"hash\": \"9023d2100cb54c67d1ae6fd73eb3b5eb1fa29a6644e133e039ea7ebcf66ae155\"\n",
      "}\n",
      "{\n",
      "  \"index\": 1,\n",
      "  \"timestamp\": \"27/01/2025\",\n",
      "  \"data\": \"Transaction Number 1\",\n",
      "  \"previous_hash\": \"9023d2100cb54c67d1ae6fd73eb3b5eb1fa29a6644e133e039ea7ebcf66ae155\",\n",
      "  \"hash\": \"30854184f2e31c6e73eb91ceb5c0d85af7fe35fbc1a1e28c504e4d3a8025c69f\"\n",
      "}\n",
      "{\n",
      "  \"index\": 2,\n",
      "  \"timestamp\": \"27/01/2025\",\n",
      "  \"data\": \"Transaction Number 2\",\n",
      "  \"previous_hash\": \"30854184f2e31c6e73eb91ceb5c0d85af7fe35fbc1a1e28c504e4d3a8025c69f\",\n",
      "  \"hash\": \"14b5234eb0a031d89117e0509ec33942a7572dabe71075f99826c9dbe413cb9c\"\n",
      "}\n"
     ]
    }
   ],
   "source": [
    "nic_chain.content()"
   ]
  },
  {
   "cell_type": "code",
   "execution_count": null,
   "id": "c127fb8e-a1c1-4078-87be-757e5d556b44",
   "metadata": {},
   "outputs": [],
   "source": []
  }
 ],
 "metadata": {
  "kernelspec": {
   "display_name": "Python 3 (ipykernel)",
   "language": "python",
   "name": "python3"
  },
  "language_info": {
   "codemirror_mode": {
    "name": "ipython",
    "version": 3
   },
   "file_extension": ".py",
   "mimetype": "text/x-python",
   "name": "python",
   "nbconvert_exporter": "python",
   "pygments_lexer": "ipython3",
   "version": "3.12.7"
  }
 },
 "nbformat": 4,
 "nbformat_minor": 5
}
